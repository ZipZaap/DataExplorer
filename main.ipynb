{
 "cells": [
  {
   "cell_type": "code",
   "execution_count": 1,
   "metadata": {},
   "outputs": [
    {
     "name": "stdout",
     "output_type": "stream",
     "text": [
      "RDRCUMINDEX.TAB already exists. Set `reload = True` to force download.\n",
      "RDRCUMINDEX.LBL already exists. Set `reload = True` to force download.\n"
     ]
    }
   ],
   "source": [
    "from Core.filter import RdrFilter\n",
    "from Core.mapper import PyGMT, save_qgis_layer\n",
    "\n",
    "explorer = RdrFilter()\n",
    "pygmt = PyGMT()"
   ]
  },
  {
   "cell_type": "code",
   "execution_count": 2,
   "metadata": {},
   "outputs": [
    {
     "name": "stdout",
     "output_type": "stream",
     "text": [
      "NO FILTER ............................................. 93425 images\n"
     ]
    }
   ],
   "source": [
    "explorer.load_df()"
   ]
  },
  {
   "cell_type": "code",
   "execution_count": 3,
   "metadata": {},
   "outputs": [
    {
     "name": "stdout",
     "output_type": "stream",
     "text": [
      "LATITUDE FILTER ........................................ 5904 images\n"
     ]
    }
   ],
   "source": [
    "# df = explorer.latitude_filter(commit=False)\n",
    "# pygmt.show_on_map(df, target = 'img_rectangle', filename = 'latitude_flt')\n",
    "# save_qgis_layer(df, target = 'img_rectangle', filename = 'latitude_flt_rect')\n",
    "\n",
    "explorer.latitude_filter()"
   ]
  },
  {
   "cell_type": "code",
   "execution_count": 4,
   "metadata": {},
   "outputs": [
    {
     "name": "stdout",
     "output_type": "stream",
     "text": [
      "SCALE FILTER ........................................... 3699 images\n"
     ]
    }
   ],
   "source": [
    "# df = explorer.scale_filter(commit = False)\n",
    "# pygmt.show_on_map(df, target = 'img_rectangle', filename = 'scale_flt')\n",
    "explorer.scale_filter()"
   ]
  },
  {
   "cell_type": "code",
   "execution_count": 5,
   "metadata": {},
   "outputs": [
    {
     "name": "stdout",
     "output_type": "stream",
     "text": [
      "SEASON FILTER .......................................... 2081 images\n"
     ]
    }
   ],
   "source": [
    "# df = explorer.season_filter(commit = False)\n",
    "# pygmt.show_on_map(df, target = 'img_rectangle', filename = 'season_flt')\n",
    "explorer.season_filter()"
   ]
  },
  {
   "cell_type": "code",
   "execution_count": 6,
   "metadata": {},
   "outputs": [
    {
     "name": "stdout",
     "output_type": "stream",
     "text": [
      "CLUSTER FILTER ......................................... 1503 images\n"
     ]
    }
   ],
   "source": [
    "# df = explorer.cluster_filter(commit = False)\n",
    "# pygmt.show_on_map(df, target = 'img_rectangle', filename = 'cluster_flt')\n",
    "explorer.cluster_filter()"
   ]
  },
  {
   "cell_type": "code",
   "execution_count": 7,
   "metadata": {},
   "outputs": [
    {
     "name": "stdout",
     "output_type": "stream",
     "text": [
      "KEYWORD FILTER .......................................... 354 images\n"
     ]
    }
   ],
   "source": [
    "# df = explorer.keyword_filter(commit = False)\n",
    "# pygmt.show_on_map(df, target = 'img_rectangle', filename = 'keyword_flt')\n",
    "explorer.keyword_filter()"
   ]
  },
  {
   "cell_type": "code",
   "execution_count": 8,
   "metadata": {},
   "outputs": [
    {
     "name": "stdout",
     "output_type": "stream",
     "text": [
      "MY FILTER ............................................... 334 images\n"
     ]
    }
   ],
   "source": [
    "# df = explorer.my_filter(commit = False)\n",
    "# pygmt.show_on_map(df, target = 'img_rectangle', filename = 'my_flt')\n",
    "explorer.my_filter()"
   ]
  },
  {
   "cell_type": "code",
   "execution_count": 9,
   "metadata": {},
   "outputs": [
    {
     "name": "stdout",
     "output_type": "stream",
     "text": [
      "ALLIGNMENT FILTER ....................................... 203 images\n"
     ]
    }
   ],
   "source": [
    "df = explorer.allignment_filter(commit = False)\n",
    "save_qgis_layer(df, target = 'img_rectangle', filename = 'allignment_flt')\n",
    "# pygmt.show_on_map(df, target = 'img_rectangle', filename = 'allignment_flt')\n",
    "# explorer.allignment_filter()"
   ]
  },
  {
   "cell_type": "code",
   "execution_count": 10,
   "metadata": {},
   "outputs": [
    {
     "data": {
      "text/plain": [
       "{'latitude_filter': {'min_lat': 78},\n",
       " 'scale_filter': {'scale': 0.25},\n",
       " 'season_filter': {'season': 'Northern summer'},\n",
       " 'cluster_filter': {'algorithm': 'dbscan', 'min_samples': 2, 'epsilon': 2000},\n",
       " 'keyword_filter': {'keywords': ['scarp']},\n",
       " 'my_filter': {'min_years': 2, 'mys': [], 'consecutive': False},\n",
       " 'allignment_filter': {}}"
      ]
     },
     "execution_count": 10,
     "metadata": {},
     "output_type": "execute_result"
    }
   ],
   "source": [
    "explorer.local_conf"
   ]
  },
  {
   "cell_type": "code",
   "execution_count": null,
   "metadata": {},
   "outputs": [],
   "source": [
    "# import os\n",
    "# import sys\n",
    "\n",
    "# # Set environment variables so QGIS can find its libraries and plugins\n",
    "# os.environ['QGIS_PREFIX_PATH'] = 'C:/OSGeo4W/apps/qgis-ltr'\n",
    "# os.environ['QT_QPA_PLATFORM_PLUGIN_PATH'] = 'C:/OSGeo4W/apps/Qt5/plugins'\n",
    "\n",
    "# # Prepend OSGeo4W directories to the PATH so DLLs can be found\n",
    "# os.environ['PATH'] = 'C:/OSGeo4W/bin;' + os.environ['PATH']\n",
    "# os.environ['PATH'] = 'C:/OSGeo4W/apps/Qt5/bin;' + os.environ['PATH']\n",
    "# os.environ['PATH'] = 'C:/OSGeo4W/apps/qgis-ltr/bin;' + os.environ['PATH']\n",
    "\n",
    "# # Add the QGIS Python directory to the Python path\n",
    "# sys.path.append('C:/OSGeo4W/apps/qgis-ltr/python')\n",
    "# sys.path.append('C:/OSGeo4W/apps/Python312/Lib/site-packages')\n",
    "\n",
    "# # Optionally, if you use QGIS plugins:\n",
    "# sys.path.append('C:/OSGeo4W/apps/qgis-ltr/python/plugins')"
   ]
  }
 ],
 "metadata": {
  "kernelspec": {
   "display_name": "pds",
   "language": "python",
   "name": "python3"
  },
  "language_info": {
   "codemirror_mode": {
    "name": "ipython",
    "version": 3
   },
   "file_extension": ".py",
   "mimetype": "text/x-python",
   "name": "python",
   "nbconvert_exporter": "python",
   "pygments_lexer": "ipython3",
   "version": "3.12.9"
  }
 },
 "nbformat": 4,
 "nbformat_minor": 2
}
