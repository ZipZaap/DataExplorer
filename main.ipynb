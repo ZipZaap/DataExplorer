{
 "cells": [
  {
   "cell_type": "code",
   "execution_count": 1,
   "metadata": {},
   "outputs": [],
   "source": [
    "from Core import *\n",
    "from configs import CONF\n",
    "\n",
    "import geojson as gj\n",
    "import pandas as pd"
   ]
  },
  {
   "cell_type": "markdown",
   "metadata": {},
   "source": [
    "### Initial Filter"
   ]
  },
  {
   "cell_type": "code",
   "execution_count": 4,
   "metadata": {},
   "outputs": [],
   "source": [
    "df = loadtab()\n",
    "df = scale_filter(df)\n",
    "df = season_filter(df)"
   ]
  },
  {
   "cell_type": "markdown",
   "metadata": {},
   "source": [
    "#### Extract imIDs from GeoJSON"
   ]
  },
  {
   "cell_type": "code",
   "execution_count": 4,
   "metadata": {},
   "outputs": [],
   "source": [
    "df = loadtab()\n",
    "imIDs = extract_imIDs('season_filter', sv_txt = False)\n",
    "df = df[df.PRODUCT_ID.isin(imIDs)]\n",
    "df = cluster_centroids(df)\n",
    "\n",
    "ctr1 = df[df.CLUSTER != -1].groupby(['CLUSTER'], as_index = False).agg({'CENTER': lambda x: get_centroid(x), 'PRODUCT_ID': lambda x: list(x)})\n",
    "ctr2 = df[df.CLUSTER == -1][['CLUSTER', 'CENTER','PRODUCT_ID']]\n",
    "ctr = pd.concat([ctr1, ctr2], axis=0).reset_index(drop=True)\n",
    "\n",
    "# qgis_geojson_layer(df[df.CLUSTER != -1], 'img_stacks')\n",
    "# qgis_geojson_layer(df[df.CLUSTER == -1], 'img_singls')\n",
    "# qgis_geojson_layer(ctr, 'cluster_centroids', geom = 'point')\n",
    "\n",
    "with open('clusters.txt', 'w') as f:\n",
    "    for idx, val in ctr.iterrows():\n",
    "        f.write(f\"--- {{{idx}}} ---\\n\")\n",
    "        if isinstance(val.PRODUCT_ID, list):\n",
    "            for item in val.PRODUCT_ID:\n",
    "                f.write(\"%s\\n\" % item)\n",
    "        else:\n",
    "            f.write(\"%s\\n\" % val.PRODUCT_ID)\n",
    "        f.write(\"\\n\")"
   ]
  },
  {
   "cell_type": "code",
   "execution_count": null,
   "metadata": {},
   "outputs": [],
   "source": []
  }
 ],
 "metadata": {
  "kernelspec": {
   "display_name": "pds",
   "language": "python",
   "name": "python3"
  },
  "language_info": {
   "codemirror_mode": {
    "name": "ipython",
    "version": 3
   },
   "file_extension": ".py",
   "mimetype": "text/x-python",
   "name": "python",
   "nbconvert_exporter": "python",
   "pygments_lexer": "ipython3",
   "version": "3.11.9"
  }
 },
 "nbformat": 4,
 "nbformat_minor": 2
}
