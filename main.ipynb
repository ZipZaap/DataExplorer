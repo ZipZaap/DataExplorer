{
 "cells": [
  {
   "cell_type": "code",
   "execution_count": 1,
   "metadata": {},
   "outputs": [
    {
     "name": "stdout",
     "output_type": "stream",
     "text": [
      "RDRCUMINDEX.TAB already exists. Set `reload = True` to force download.\n",
      "RDRCUMINDEX.LBL already exists. Set `reload = True` to force download.\n"
     ]
    }
   ],
   "source": [
    "from Core.filter import RdrFilter\n",
    "explorer = RdrFilter()"
   ]
  },
  {
   "cell_type": "code",
   "execution_count": 2,
   "metadata": {},
   "outputs": [
    {
     "name": "stdout",
     "output_type": "stream",
     "text": [
      "NO FILTER ............................................. 93425 images\n"
     ]
    }
   ],
   "source": [
    "explorer.load_df()"
   ]
  },
  {
   "cell_type": "code",
   "execution_count": 3,
   "metadata": {},
   "outputs": [
    {
     "name": "stdout",
     "output_type": "stream",
     "text": [
      "LATITUDE FILTER ........................................ 5904 images\n"
     ]
    }
   ],
   "source": [
    "# explorer.latitude_filter(commit=False)\n",
    "# explorer.visualize(engine = 'pygmt', target = 'img_rectangle', filename = 'latitude_flt')\n",
    "\n",
    "explorer.latitude_filter()"
   ]
  },
  {
   "cell_type": "code",
   "execution_count": 4,
   "metadata": {},
   "outputs": [
    {
     "name": "stdout",
     "output_type": "stream",
     "text": [
      "SCALE FILTER ........................................... 3699 images\n"
     ]
    }
   ],
   "source": [
    "# explorer.scale_filter(commit = False)\n",
    "# explorer.visualize(engine = 'pygmt', target = 'img_rectangle', filename = 'scale_flt')\n",
    "\n",
    "explorer.scale_filter()"
   ]
  },
  {
   "cell_type": "code",
   "execution_count": 6,
   "metadata": {},
   "outputs": [
    {
     "name": "stdout",
     "output_type": "stream",
     "text": [
      "SEASON FILTER .......................................... 2081 images\n"
     ]
    }
   ],
   "source": [
    "# explorer.season_filter(commit = False)\n",
    "# explorer.visualize(engine = 'pygmt', target = 'img_rectangle', filename = 'season_flt')\n",
    "# explorer.visualize(engine = 'qgis', target = 'img_rectangle', filename = 'season_flt')\n",
    "\n",
    "explorer.season_filter()"
   ]
  },
  {
   "cell_type": "code",
   "execution_count": 7,
   "metadata": {},
   "outputs": [
    {
     "name": "stdout",
     "output_type": "stream",
     "text": [
      "CLUSTER FILTER ......................................... 1503 images\n"
     ]
    }
   ],
   "source": [
    "explorer.cluster_filter(commit = False)\n",
    "# explorer.visualize(engine = 'pygmt', target = 'cluster_centroid', filename = 'cluster_flt')\n",
    "explorer.visualize(engine = 'qgis', target = 'img_rectangle', filename = 'cluster_flt')"
   ]
  },
  {
   "cell_type": "code",
   "execution_count": null,
   "metadata": {},
   "outputs": [],
   "source": [
    "explorer.keyword_filter(commit = False)\n",
    "explorer.visualize(engine = 'pygmt', target = 'cluster_centroid', filename = 'keyword_flt')"
   ]
  },
  {
   "cell_type": "code",
   "execution_count": null,
   "metadata": {},
   "outputs": [],
   "source": [
    "explorer.my_filter(commit = False)\n",
    "explorer.visualize(engine = 'pygmt', target = 'cluster_centroid', filename = 'my_flt')"
   ]
  },
  {
   "cell_type": "code",
   "execution_count": null,
   "metadata": {},
   "outputs": [
    {
     "name": "stdout",
     "output_type": "stream",
     "text": [
      "ALLIGNMENT FILTER ....................................... 203 images\n"
     ]
    }
   ],
   "source": [
    "explorer.allignment_filter(commit = False)\n",
    "explorer.visualize(engine = 'pygmt', target = 'cluster_centroid', filename = 'allignment_flt')"
   ]
  },
  {
   "cell_type": "code",
   "execution_count": 8,
   "metadata": {},
   "outputs": [
    {
     "name": "stdout",
     "output_type": "stream",
     "text": [
      "{'latitude_filter': {'min_lat': 78}}\n"
     ]
    }
   ],
   "source": [
    "print(explorer.local_conf)"
   ]
  },
  {
   "cell_type": "code",
   "execution_count": 11,
   "metadata": {},
   "outputs": [
    {
     "data": {
      "text/plain": [
       "dict_keys(['local_conf', 'df', 'tmp_df', 'mapper'])"
      ]
     },
     "execution_count": 11,
     "metadata": {},
     "output_type": "execute_result"
    }
   ],
   "source": [
    "explorer.__dict__.keys()"
   ]
  }
 ],
 "metadata": {
  "kernelspec": {
   "display_name": "pds",
   "language": "python",
   "name": "python3"
  },
  "language_info": {
   "codemirror_mode": {
    "name": "ipython",
    "version": 3
   },
   "file_extension": ".py",
   "mimetype": "text/x-python",
   "name": "python",
   "nbconvert_exporter": "python",
   "pygments_lexer": "ipython3",
   "version": "3.12.9"
  }
 },
 "nbformat": 4,
 "nbformat_minor": 2
}
