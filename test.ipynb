{
 "cells": [
  {
   "cell_type": "code",
   "execution_count": 1,
   "metadata": {},
   "outputs": [
    {
     "name": "stdout",
     "output_type": "stream",
     "text": [
      "RDRCUMINDEX.TAB already exists. Set `reload = True` to force download.\n",
      "RDRCUMINDEX.LBL already exists. Set `reload = True` to force download.\n"
     ]
    }
   ],
   "source": [
    "from Core.filter import RdrFilter\n",
    "explorer = RdrFilter()"
   ]
  },
  {
   "cell_type": "code",
   "execution_count": 2,
   "metadata": {},
   "outputs": [
    {
     "name": "stdout",
     "output_type": "stream",
     "text": [
      "NO FILTER ............................................. 93425 images\n"
     ]
    }
   ],
   "source": [
    "explorer.load_df()"
   ]
  },
  {
   "cell_type": "code",
   "execution_count": 3,
   "metadata": {},
   "outputs": [
    {
     "name": "stdout",
     "output_type": "stream",
     "text": [
      "LATITUDE FILTER ........................................ 5904 images\n",
      "SCALE FILTER ........................................... 3699 images\n",
      "SEASON FILTER .......................................... 2081 images\n",
      "CLUSTER FILTER ......................................... 1503 images\n",
      "MY FILTER .............................................. 1257 images\n",
      "ALLIGNMENT FILTER ....................................... 794 images\n"
     ]
    }
   ],
   "source": [
    "explorer.latitude_filter()\n",
    "explorer.scale_filter()\n",
    "explorer.season_filter()\n",
    "explorer.cluster_filter()\n",
    "explorer.my_filter()\n",
    "explorer.allignment_filter()"
   ]
  },
  {
   "cell_type": "code",
   "execution_count": 4,
   "metadata": {},
   "outputs": [
    {
     "name": "stdout",
     "output_type": "stream",
     "text": [
      "{'latitude_filter': {'min_lat': 78}, 'scale_filter': {'scale': 0.25}, 'season_filter': {'season': 'Northern summer'}, 'cluster_filter': {'algorithm': 'dbscan', 'min_samples': 2, 'epsilon': 2000}, 'my_filter': {'min_years': 2, 'mys': [], 'consecutive': False}, 'allignment_filter': {}}\n"
     ]
    }
   ],
   "source": [
    "print(explorer.local_conf)\n",
    "explorer.save_df()"
   ]
  },
  {
   "cell_type": "code",
   "execution_count": 5,
   "metadata": {},
   "outputs": [
    {
     "name": "stderr",
     "output_type": "stream",
     "text": [
      "100%|██████████| 838M/838M [02:40<00:00, 5.21MiB/s] \n"
     ]
    },
    {
     "name": "stdout",
     "output_type": "stream",
     "text": [
      "ESP_018109_2580_RED.JP2 downloaded successfully.\n"
     ]
    },
    {
     "name": "stderr",
     "output_type": "stream",
     "text": [
      "100%|██████████| 979M/979M [03:31<00:00, 4.63MiB/s] "
     ]
    },
    {
     "name": "stdout",
     "output_type": "stream",
     "text": [
      "ESP_026654_2580_RED.JP2 downloaded successfully.\n"
     ]
    },
    {
     "name": "stderr",
     "output_type": "stream",
     "text": [
      "\n"
     ]
    }
   ],
   "source": [
    "explorer.download_images(cluster_id = 2, reload = True)"
   ]
  }
 ],
 "metadata": {
  "kernelspec": {
   "display_name": "pds",
   "language": "python",
   "name": "python3"
  },
  "language_info": {
   "codemirror_mode": {
    "name": "ipython",
    "version": 3
   },
   "file_extension": ".py",
   "mimetype": "text/x-python",
   "name": "python",
   "nbconvert_exporter": "python",
   "pygments_lexer": "ipython3",
   "version": "3.12.9"
  }
 },
 "nbformat": 4,
 "nbformat_minor": 2
}
