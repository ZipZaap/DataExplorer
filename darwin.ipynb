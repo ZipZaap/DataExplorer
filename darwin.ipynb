{
 "cells": [
  {
   "cell_type": "code",
   "execution_count": 1,
   "metadata": {},
   "outputs": [],
   "source": [
    "from darwin.client import Client\n",
    "\n",
    "from slugify import slugify\n",
    "import glob\n",
    "\n",
    "from configs import CONF\n",
    "from Core import *"
   ]
  },
  {
   "cell_type": "code",
   "execution_count": 2,
   "metadata": {},
   "outputs": [
    {
     "name": "stdout",
     "output_type": "stream",
     "text": [
      "Available releases for dataset SCARPS:\n",
      "...\n"
     ]
    }
   ],
   "source": [
    "dwin = DarwinDataset()"
   ]
  },
  {
   "cell_type": "code",
   "execution_count": 3,
   "metadata": {},
   "outputs": [],
   "source": [
    "dwin.upload_img()"
   ]
  }
 ],
 "metadata": {
  "kernelspec": {
   "display_name": "ode",
   "language": "python",
   "name": "python3"
  },
  "language_info": {
   "codemirror_mode": {
    "name": "ipython",
    "version": 3
   },
   "file_extension": ".py",
   "mimetype": "text/x-python",
   "name": "python",
   "nbconvert_exporter": "python",
   "pygments_lexer": "ipython3",
   "version": "3.10.14"
  }
 },
 "nbformat": 4,
 "nbformat_minor": 2
}
